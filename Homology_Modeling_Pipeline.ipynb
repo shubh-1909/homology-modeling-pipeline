{
  "nbformat": 4,
  "nbformat_minor": 0,
  "metadata": {
    "colab": {
      "provenance": []
    },
    "kernelspec": {
      "name": "python3",
      "display_name": "Python 3"
    },
    "language_info": {
      "name": "python"
    }
  },
  "cells": [
    {
      "cell_type": "markdown",
      "source": [
        "# 🧬 Homology Modeling Pipeline (HMP)\n",
        "This notebook simulates a basic **homology modeling workflow** by:\n",
        "\n",
        "- 📥 Downloading a known template structure from PDB\n",
        "- 📂 Uploading your target FASTA sequence\n",
        "- 🧬 Extracting template sequence from PDB file\n",
        "- 🧬 Aligning target vs template sequences\n",
        "- 📊 Showing the alignment, frequency plots, and sequence summaries\n",
        "\n",
        "✅ Tools: BioPython, Pandas, Matplotlib\n",
        "\n"
      ],
      "metadata": {
        "id": "PdVKpSRP-LzA"
      }
    },
    {
      "cell_type": "code",
      "execution_count": 7,
      "metadata": {
        "colab": {
          "base_uri": "https://localhost:8080/"
        },
        "id": "DVjAC_bY-ImJ",
        "outputId": "a15c0bac-8d63-4bda-b434-8e4b1bf821c6"
      },
      "outputs": [
        {
          "output_type": "stream",
          "name": "stdout",
          "text": [
            "Requirement already satisfied: biopython in /usr/local/lib/python3.11/dist-packages (1.85)\n",
            "Requirement already satisfied: numpy in /usr/local/lib/python3.11/dist-packages (from biopython) (2.0.2)\n"
          ]
        }
      ],
      "source": [
        "!pip install biopython\n",
        "\n",
        "from Bio import PDB, SeqIO, pairwise2\n",
        "from Bio.PDB import PDBList\n",
        "from Bio.Data.IUPACData import protein_letters_3to1\n",
        "from collections import Counter\n",
        "import pandas as pd\n",
        "import matplotlib.pyplot as plt\n",
        "from google.colab import files"
      ]
    },
    {
      "cell_type": "markdown",
      "source": [
        "## 📥 Download Template Structure by PDB ID\n",
        "We fetch a known protein structure from RCSB PDB.\n"
      ],
      "metadata": {
        "id": "5mMFfZvc-RU6"
      }
    },
    {
      "cell_type": "code",
      "source": [
        "pdb_id = \"1TIM\"  # Example: TIM protein, well studied\n",
        "pdbl = PDBList()\n",
        "pdbl.retrieve_pdb_file(pdb_id, pdir='.', file_format='pdb')\n",
        "template_file = f\"pdb{pdb_id.lower()}.ent\"\n",
        "print(f\"✅ Downloaded template PDB file: {template_file}\")"
      ],
      "metadata": {
        "colab": {
          "base_uri": "https://localhost:8080/"
        },
        "id": "okObBf9S-Txh",
        "outputId": "e0c58dba-3c9c-4852-fe8d-06633c779300"
      },
      "execution_count": 8,
      "outputs": [
        {
          "output_type": "stream",
          "name": "stdout",
          "text": [
            "Structure exists: './pdb1tim.ent' \n",
            "✅ Downloaded template PDB file: pdb1tim.ent\n"
          ]
        }
      ]
    },
    {
      "cell_type": "markdown",
      "source": [
        "## 📂 Upload Your Target FASTA File\n",
        "This should be your **query sequence** (protein).\n"
      ],
      "metadata": {
        "id": "X59c1OBe-Wdg"
      }
    },
    {
      "cell_type": "code",
      "source": [
        "uploaded = files.upload()\n",
        "fasta_file = list(uploaded.keys())[0]\n",
        "\n",
        "record = SeqIO.read(fasta_file, \"fasta\")\n",
        "target_seq = record.seq\n",
        "print(f\"✅ Target sequence loaded: {record.id}, length: {len(target_seq)}\")"
      ],
      "metadata": {
        "colab": {
          "base_uri": "https://localhost:8080/",
          "height": 91
        },
        "id": "uxyhr0yi-XiJ",
        "outputId": "8bb6aba5-1ba9-4629-a6af-c51bee69dda8"
      },
      "execution_count": 9,
      "outputs": [
        {
          "output_type": "display_data",
          "data": {
            "text/plain": [
              "<IPython.core.display.HTML object>"
            ],
            "text/html": [
              "\n",
              "     <input type=\"file\" id=\"files-f9c3993c-5a20-45ff-9f2e-9a68a04ecdd5\" name=\"files[]\" multiple disabled\n",
              "        style=\"border:none\" />\n",
              "     <output id=\"result-f9c3993c-5a20-45ff-9f2e-9a68a04ecdd5\">\n",
              "      Upload widget is only available when the cell has been executed in the\n",
              "      current browser session. Please rerun this cell to enable.\n",
              "      </output>\n",
              "      <script>// Copyright 2017 Google LLC\n",
              "//\n",
              "// Licensed under the Apache License, Version 2.0 (the \"License\");\n",
              "// you may not use this file except in compliance with the License.\n",
              "// You may obtain a copy of the License at\n",
              "//\n",
              "//      http://www.apache.org/licenses/LICENSE-2.0\n",
              "//\n",
              "// Unless required by applicable law or agreed to in writing, software\n",
              "// distributed under the License is distributed on an \"AS IS\" BASIS,\n",
              "// WITHOUT WARRANTIES OR CONDITIONS OF ANY KIND, either express or implied.\n",
              "// See the License for the specific language governing permissions and\n",
              "// limitations under the License.\n",
              "\n",
              "/**\n",
              " * @fileoverview Helpers for google.colab Python module.\n",
              " */\n",
              "(function(scope) {\n",
              "function span(text, styleAttributes = {}) {\n",
              "  const element = document.createElement('span');\n",
              "  element.textContent = text;\n",
              "  for (const key of Object.keys(styleAttributes)) {\n",
              "    element.style[key] = styleAttributes[key];\n",
              "  }\n",
              "  return element;\n",
              "}\n",
              "\n",
              "// Max number of bytes which will be uploaded at a time.\n",
              "const MAX_PAYLOAD_SIZE = 100 * 1024;\n",
              "\n",
              "function _uploadFiles(inputId, outputId) {\n",
              "  const steps = uploadFilesStep(inputId, outputId);\n",
              "  const outputElement = document.getElementById(outputId);\n",
              "  // Cache steps on the outputElement to make it available for the next call\n",
              "  // to uploadFilesContinue from Python.\n",
              "  outputElement.steps = steps;\n",
              "\n",
              "  return _uploadFilesContinue(outputId);\n",
              "}\n",
              "\n",
              "// This is roughly an async generator (not supported in the browser yet),\n",
              "// where there are multiple asynchronous steps and the Python side is going\n",
              "// to poll for completion of each step.\n",
              "// This uses a Promise to block the python side on completion of each step,\n",
              "// then passes the result of the previous step as the input to the next step.\n",
              "function _uploadFilesContinue(outputId) {\n",
              "  const outputElement = document.getElementById(outputId);\n",
              "  const steps = outputElement.steps;\n",
              "\n",
              "  const next = steps.next(outputElement.lastPromiseValue);\n",
              "  return Promise.resolve(next.value.promise).then((value) => {\n",
              "    // Cache the last promise value to make it available to the next\n",
              "    // step of the generator.\n",
              "    outputElement.lastPromiseValue = value;\n",
              "    return next.value.response;\n",
              "  });\n",
              "}\n",
              "\n",
              "/**\n",
              " * Generator function which is called between each async step of the upload\n",
              " * process.\n",
              " * @param {string} inputId Element ID of the input file picker element.\n",
              " * @param {string} outputId Element ID of the output display.\n",
              " * @return {!Iterable<!Object>} Iterable of next steps.\n",
              " */\n",
              "function* uploadFilesStep(inputId, outputId) {\n",
              "  const inputElement = document.getElementById(inputId);\n",
              "  inputElement.disabled = false;\n",
              "\n",
              "  const outputElement = document.getElementById(outputId);\n",
              "  outputElement.innerHTML = '';\n",
              "\n",
              "  const pickedPromise = new Promise((resolve) => {\n",
              "    inputElement.addEventListener('change', (e) => {\n",
              "      resolve(e.target.files);\n",
              "    });\n",
              "  });\n",
              "\n",
              "  const cancel = document.createElement('button');\n",
              "  inputElement.parentElement.appendChild(cancel);\n",
              "  cancel.textContent = 'Cancel upload';\n",
              "  const cancelPromise = new Promise((resolve) => {\n",
              "    cancel.onclick = () => {\n",
              "      resolve(null);\n",
              "    };\n",
              "  });\n",
              "\n",
              "  // Wait for the user to pick the files.\n",
              "  const files = yield {\n",
              "    promise: Promise.race([pickedPromise, cancelPromise]),\n",
              "    response: {\n",
              "      action: 'starting',\n",
              "    }\n",
              "  };\n",
              "\n",
              "  cancel.remove();\n",
              "\n",
              "  // Disable the input element since further picks are not allowed.\n",
              "  inputElement.disabled = true;\n",
              "\n",
              "  if (!files) {\n",
              "    return {\n",
              "      response: {\n",
              "        action: 'complete',\n",
              "      }\n",
              "    };\n",
              "  }\n",
              "\n",
              "  for (const file of files) {\n",
              "    const li = document.createElement('li');\n",
              "    li.append(span(file.name, {fontWeight: 'bold'}));\n",
              "    li.append(span(\n",
              "        `(${file.type || 'n/a'}) - ${file.size} bytes, ` +\n",
              "        `last modified: ${\n",
              "            file.lastModifiedDate ? file.lastModifiedDate.toLocaleDateString() :\n",
              "                                    'n/a'} - `));\n",
              "    const percent = span('0% done');\n",
              "    li.appendChild(percent);\n",
              "\n",
              "    outputElement.appendChild(li);\n",
              "\n",
              "    const fileDataPromise = new Promise((resolve) => {\n",
              "      const reader = new FileReader();\n",
              "      reader.onload = (e) => {\n",
              "        resolve(e.target.result);\n",
              "      };\n",
              "      reader.readAsArrayBuffer(file);\n",
              "    });\n",
              "    // Wait for the data to be ready.\n",
              "    let fileData = yield {\n",
              "      promise: fileDataPromise,\n",
              "      response: {\n",
              "        action: 'continue',\n",
              "      }\n",
              "    };\n",
              "\n",
              "    // Use a chunked sending to avoid message size limits. See b/62115660.\n",
              "    let position = 0;\n",
              "    do {\n",
              "      const length = Math.min(fileData.byteLength - position, MAX_PAYLOAD_SIZE);\n",
              "      const chunk = new Uint8Array(fileData, position, length);\n",
              "      position += length;\n",
              "\n",
              "      const base64 = btoa(String.fromCharCode.apply(null, chunk));\n",
              "      yield {\n",
              "        response: {\n",
              "          action: 'append',\n",
              "          file: file.name,\n",
              "          data: base64,\n",
              "        },\n",
              "      };\n",
              "\n",
              "      let percentDone = fileData.byteLength === 0 ?\n",
              "          100 :\n",
              "          Math.round((position / fileData.byteLength) * 100);\n",
              "      percent.textContent = `${percentDone}% done`;\n",
              "\n",
              "    } while (position < fileData.byteLength);\n",
              "  }\n",
              "\n",
              "  // All done.\n",
              "  yield {\n",
              "    response: {\n",
              "      action: 'complete',\n",
              "    }\n",
              "  };\n",
              "}\n",
              "\n",
              "scope.google = scope.google || {};\n",
              "scope.google.colab = scope.google.colab || {};\n",
              "scope.google.colab._files = {\n",
              "  _uploadFiles,\n",
              "  _uploadFilesContinue,\n",
              "};\n",
              "})(self);\n",
              "</script> "
            ]
          },
          "metadata": {}
        },
        {
          "output_type": "stream",
          "name": "stdout",
          "text": [
            "Saving sequence.fasta to sequence (1).fasta\n",
            "✅ Target sequence loaded: Sample_Target_Protein, length: 33\n"
          ]
        }
      ]
    },
    {
      "cell_type": "markdown",
      "source": [
        "## 🧬 Extract Template Sequence from PDB\n",
        "We build a string of 1-letter amino acid codes.\n",
        "\n"
      ],
      "metadata": {
        "id": "S5GlQZsT-byU"
      }
    },
    {
      "cell_type": "code",
      "source": [
        "parser = PDB.PDBParser(QUIET=True)\n",
        "structure = parser.get_structure(\"template\", template_file)\n",
        "\n",
        "template_seq = \"\"\n",
        "for model in structure:\n",
        "    for chain in model:\n",
        "        for residue in chain:\n",
        "            if PDB.is_aa(residue):\n",
        "                res_name = residue.get_resname().capitalize()\n",
        "                if res_name in protein_letters_3to1:\n",
        "                    template_seq += protein_letters_3to1[res_name]\n",
        "                else:\n",
        "                    template_seq += \"X\"\n",
        "\n",
        "print(f\"✅ Extracted template sequence: {len(template_seq)} residues\")"
      ],
      "metadata": {
        "colab": {
          "base_uri": "https://localhost:8080/"
        },
        "id": "CTmEVXTH-d_k",
        "outputId": "3468c00c-5ddb-48b2-e76a-3f0a8c8b0ded"
      },
      "execution_count": 10,
      "outputs": [
        {
          "output_type": "stream",
          "name": "stdout",
          "text": [
            "✅ Extracted template sequence: 494 residues\n"
          ]
        }
      ]
    },
    {
      "cell_type": "markdown",
      "source": [
        "## 📝 Wrapped Template Sequence\n",
        "Easy to read 60-character lines."
      ],
      "metadata": {
        "id": "m3SxcSqm-g4q"
      }
    },
    {
      "cell_type": "code",
      "source": [
        "def wrap_sequence(seq, width=60):\n",
        "    return '\\n'.join(seq[i:i+width] for i in range(0, len(seq), width))\n",
        "\n",
        "print(\"🧬 Template sequence:\")\n",
        "print(wrap_sequence(template_seq))"
      ],
      "metadata": {
        "colab": {
          "base_uri": "https://localhost:8080/"
        },
        "id": "sClHoxek-kDz",
        "outputId": "cbdc6550-96af-480b-a0eb-2e4f7deede5c"
      },
      "execution_count": 11,
      "outputs": [
        {
          "output_type": "stream",
          "name": "stdout",
          "text": [
            "🧬 Template sequence:\n",
            "APRKFFVGGNWKMNGKRKSLGELIHTLDGAKLSADTEVVCGAPSIYLDFARQKLDAKIGV\n",
            "AAQNCYKVPKGAFTGEISPAMIKDIGAAWVILGHSERRHVFGESDELIGQKVAHALAEGL\n",
            "GVIACIGEKLDEREAGITEKVVFQETKAIADNVKDWSKVVLAYEPVWAIGTGKTATPQQA\n",
            "QEVHEKLRGWLKTHVSDAVAVQSRIIYGGSVTGGNCKELASQHDVDGFLVGGASLKPEFV\n",
            "DIINAKHAPRKFFVGGNWKMNGKRKSLGELIHTLDGAKLSADTEVVCGAPSIYLDFARQK\n",
            "LDAKIGVAAQNCYKVPKGAFTGEISPAMIKDIGAAWVILGHSERRHVFGESDELIGQKVA\n",
            "HALAEGLGVIACIGEKLDEREAGITEKVVFQETKAIADNVKDWSKVVLAYEPVWAIGTGK\n",
            "TATPQQAQEVHEKLRGWLKTHVSDAVAVQSRIIYGGSVTGGNCKELASQHDVDGFLVGGA\n",
            "SLKPEFVDIINAKH\n"
          ]
        }
      ]
    },
    {
      "cell_type": "markdown",
      "source": [
        "## 📊 Amino Acid Frequency in Template Sequence\n",
        "Bar plot of residue types.\n"
      ],
      "metadata": {
        "id": "uoVvpmx7OTEh"
      }
    },
    {
      "cell_type": "code",
      "source": [
        "counts = Counter(template_seq)\n",
        "df_counts = pd.DataFrame(counts.items(), columns=[\"Residue\", \"Count\"]).sort_values(\"Count\", ascending=False)\n",
        "\n",
        "plt.figure(figsize=(10,5))\n",
        "plt.bar(df_counts[\"Residue\"], df_counts[\"Count\"], color='cornflowerblue', edgecolor='black')\n",
        "plt.title(\"Amino Acid Composition of Template\")\n",
        "plt.xlabel(\"Residue\")\n",
        "plt.ylabel(\"Count\")\n",
        "plt.grid(axis='y', linestyle='--', alpha=0.7)\n",
        "plt.show()"
      ],
      "metadata": {
        "colab": {
          "base_uri": "https://localhost:8080/",
          "height": 487
        },
        "id": "NReaeq9oOUmA",
        "outputId": "3368f4b1-b20b-4ae7-8200-f81f10d45898"
      },
      "execution_count": 12,
      "outputs": [
        {
          "output_type": "display_data",
          "data": {
            "text/plain": [
              "<Figure size 1000x500 with 1 Axes>"
            ],
            "image/png": "[encoded data removed]"
          },
          "metadata": {}
        }
      ]
    },
    {
      "cell_type": "markdown",
      "source": [
        "## 📋 Table of Residue Counts\n",
        "Sorted, with a blue gradient for easy viewing.\n"
      ],
      "metadata": {
        "id": "DA_AP12XOZnV"
      }
    },
    {
      "cell_type": "code",
      "source": [
        "df_counts.reset_index(drop=True, inplace=True)\n",
        "df_counts.style.background_gradient(cmap='Blues')"
      ],
      "metadata": {
        "colab": {
          "base_uri": "https://localhost:8080/",
          "height": 676
        },
        "id": "CRC9gmBKOdFC",
        "outputId": "45568973-f691-4a87-ef7d-3b29607357bb"
      },
      "execution_count": 13,
      "outputs": [
        {
          "output_type": "execute_result",
          "data": {
            "text/plain": [
              "<pandas.io.formats.style.Styler at 0x7e454615bfd0>"
            ],
            "text/html": [
              "<style type=\"text/css\">\n",
              "#T_4a1f4_row0_col1 {\n",
              "  background-color: #08306b;\n",
              "  color: #f1f1f1;\n",
              "}\n",
              "#T_4a1f4_row1_col1 {\n",
              "  background-color: #083979;\n",
              "  color: #f1f1f1;\n",
              "}\n",
              "#T_4a1f4_row2_col1 {\n",
              "  background-color: #1562a9;\n",
              "  color: #f1f1f1;\n",
              "}\n",
              "#T_4a1f4_row3_col1 {\n",
              "  background-color: #1d6cb1;\n",
              "  color: #f1f1f1;\n",
              "}\n",
              "#T_4a1f4_row4_col1, #T_4a1f4_row5_col1, #T_4a1f4_row6_col1 {\n",
              "  background-color: #529dcc;\n",
              "  color: #f1f1f1;\n",
              "}\n",
              "#T_4a1f4_row7_col1 {\n",
              "  background-color: #8abfdd;\n",
              "  color: #000000;\n",
              "}\n",
              "#T_4a1f4_row8_col1 {\n",
              "  background-color: #9ac8e0;\n",
              "  color: #000000;\n",
              "}\n",
              "#T_4a1f4_row9_col1 {\n",
              "  background-color: #b4d3e9;\n",
              "  color: #000000;\n",
              "}\n",
              "#T_4a1f4_row10_col1 {\n",
              "  background-color: #c1d9ed;\n",
              "  color: #000000;\n",
              "}\n",
              "#T_4a1f4_row11_col1, #T_4a1f4_row12_col1, #T_4a1f4_row13_col1 {\n",
              "  background-color: #caddf0;\n",
              "  color: #000000;\n",
              "}\n",
              "#T_4a1f4_row14_col1 {\n",
              "  background-color: #d1e2f3;\n",
              "  color: #000000;\n",
              "}\n",
              "#T_4a1f4_row15_col1 {\n",
              "  background-color: #d9e7f5;\n",
              "  color: #000000;\n",
              "}\n",
              "#T_4a1f4_row16_col1 {\n",
              "  background-color: #e0ecf8;\n",
              "  color: #000000;\n",
              "}\n",
              "#T_4a1f4_row17_col1, #T_4a1f4_row18_col1 {\n",
              "  background-color: #e8f1fa;\n",
              "  color: #000000;\n",
              "}\n",
              "#T_4a1f4_row19_col1 {\n",
              "  background-color: #f7fbff;\n",
              "  color: #000000;\n",
              "}\n",
              "</style>\n",
              "<table id=\"T_4a1f4\" class=\"dataframe\">\n",
              "  <thead>\n",
              "    <tr>\n",
              "      <th class=\"blank level0\" >&nbsp;</th>\n",
              "      <th id=\"T_4a1f4_level0_col0\" class=\"col_heading level0 col0\" >Residue</th>\n",
              "      <th id=\"T_4a1f4_level0_col1\" class=\"col_heading level0 col1\" >Count</th>\n",
              "    </tr>\n",
              "  </thead>\n",
              "  <tbody>\n",
              "    <tr>\n",
              "      <th id=\"T_4a1f4_level0_row0\" class=\"row_heading level0 row0\" >0</th>\n",
              "      <td id=\"T_4a1f4_row0_col0\" class=\"data row0 col0\" >A</td>\n",
              "      <td id=\"T_4a1f4_row0_col1\" class=\"data row0 col1\" >56</td>\n",
              "    </tr>\n",
              "    <tr>\n",
              "      <th id=\"T_4a1f4_level0_row1\" class=\"row_heading level0 row1\" >1</th>\n",
              "      <td id=\"T_4a1f4_row1_col0\" class=\"data row1 col0\" >G</td>\n",
              "      <td id=\"T_4a1f4_row1_col1\" class=\"data row1 col1\" >54</td>\n",
              "    </tr>\n",
              "    <tr>\n",
              "      <th id=\"T_4a1f4_level0_row2\" class=\"row_heading level0 row2\" >2</th>\n",
              "      <td id=\"T_4a1f4_row2_col0\" class=\"data row2 col0\" >V</td>\n",
              "      <td id=\"T_4a1f4_row2_col1\" class=\"data row2 col1\" >46</td>\n",
              "    </tr>\n",
              "    <tr>\n",
              "      <th id=\"T_4a1f4_level0_row3\" class=\"row_heading level0 row3\" >3</th>\n",
              "      <td id=\"T_4a1f4_row3_col0\" class=\"data row3 col0\" >K</td>\n",
              "      <td id=\"T_4a1f4_row3_col1\" class=\"data row3 col1\" >44</td>\n",
              "    </tr>\n",
              "    <tr>\n",
              "      <th id=\"T_4a1f4_level0_row4\" class=\"row_heading level0 row4\" >4</th>\n",
              "      <td id=\"T_4a1f4_row4_col0\" class=\"data row4 col0\" >I</td>\n",
              "      <td id=\"T_4a1f4_row4_col1\" class=\"data row4 col1\" >34</td>\n",
              "    </tr>\n",
              "    <tr>\n",
              "      <th id=\"T_4a1f4_level0_row5\" class=\"row_heading level0 row5\" >5</th>\n",
              "      <td id=\"T_4a1f4_row5_col0\" class=\"data row5 col0\" >E</td>\n",
              "      <td id=\"T_4a1f4_row5_col1\" class=\"data row5 col1\" >34</td>\n",
              "    </tr>\n",
              "    <tr>\n",
              "      <th id=\"T_4a1f4_level0_row6\" class=\"row_heading level0 row6\" >6</th>\n",
              "      <td id=\"T_4a1f4_row6_col0\" class=\"data row6 col0\" >L</td>\n",
              "      <td id=\"T_4a1f4_row6_col1\" class=\"data row6 col1\" >34</td>\n",
              "    </tr>\n",
              "    <tr>\n",
              "      <th id=\"T_4a1f4_level0_row7\" class=\"row_heading level0 row7\" >7</th>\n",
              "      <td id=\"T_4a1f4_row7_col0\" class=\"data row7 col0\" >D</td>\n",
              "      <td id=\"T_4a1f4_row7_col1\" class=\"data row7 col1\" >26</td>\n",
              "    </tr>\n",
              "    <tr>\n",
              "      <th id=\"T_4a1f4_level0_row8\" class=\"row_heading level0 row8\" >8</th>\n",
              "      <td id=\"T_4a1f4_row8_col0\" class=\"data row8 col0\" >S</td>\n",
              "      <td id=\"T_4a1f4_row8_col1\" class=\"data row8 col1\" >24</td>\n",
              "    </tr>\n",
              "    <tr>\n",
              "      <th id=\"T_4a1f4_level0_row9\" class=\"row_heading level0 row9\" >9</th>\n",
              "      <td id=\"T_4a1f4_row9_col0\" class=\"data row9 col0\" >T</td>\n",
              "      <td id=\"T_4a1f4_row9_col1\" class=\"data row9 col1\" >20</td>\n",
              "    </tr>\n",
              "    <tr>\n",
              "      <th id=\"T_4a1f4_level0_row10\" class=\"row_heading level0 row10\" >10</th>\n",
              "      <td id=\"T_4a1f4_row10_col0\" class=\"data row10 col0\" >Q</td>\n",
              "      <td id=\"T_4a1f4_row10_col1\" class=\"data row10 col1\" >18</td>\n",
              "    </tr>\n",
              "    <tr>\n",
              "      <th id=\"T_4a1f4_level0_row11\" class=\"row_heading level0 row11\" >11</th>\n",
              "      <td id=\"T_4a1f4_row11_col0\" class=\"data row11 col0\" >R</td>\n",
              "      <td id=\"T_4a1f4_row11_col1\" class=\"data row11 col1\" >16</td>\n",
              "    </tr>\n",
              "    <tr>\n",
              "      <th id=\"T_4a1f4_level0_row12\" class=\"row_heading level0 row12\" >12</th>\n",
              "      <td id=\"T_4a1f4_row12_col0\" class=\"data row12 col0\" >F</td>\n",
              "      <td id=\"T_4a1f4_row12_col1\" class=\"data row12 col1\" >16</td>\n",
              "    </tr>\n",
              "    <tr>\n",
              "      <th id=\"T_4a1f4_level0_row13\" class=\"row_heading level0 row13\" >13</th>\n",
              "      <td id=\"T_4a1f4_row13_col0\" class=\"data row13 col0\" >H</td>\n",
              "      <td id=\"T_4a1f4_row13_col1\" class=\"data row13 col1\" >16</td>\n",
              "    </tr>\n",
              "    <tr>\n",
              "      <th id=\"T_4a1f4_level0_row14\" class=\"row_heading level0 row14\" >14</th>\n",
              "      <td id=\"T_4a1f4_row14_col0\" class=\"data row14 col0\" >P</td>\n",
              "      <td id=\"T_4a1f4_row14_col1\" class=\"data row14 col1\" >14</td>\n",
              "    </tr>\n",
              "    <tr>\n",
              "      <th id=\"T_4a1f4_level0_row15\" class=\"row_heading level0 row15\" >15</th>\n",
              "      <td id=\"T_4a1f4_row15_col0\" class=\"data row15 col0\" >N</td>\n",
              "      <td id=\"T_4a1f4_row15_col1\" class=\"data row15 col1\" >12</td>\n",
              "    </tr>\n",
              "    <tr>\n",
              "      <th id=\"T_4a1f4_level0_row16\" class=\"row_heading level0 row16\" >16</th>\n",
              "      <td id=\"T_4a1f4_row16_col0\" class=\"data row16 col0\" >W</td>\n",
              "      <td id=\"T_4a1f4_row16_col1\" class=\"data row16 col1\" >10</td>\n",
              "    </tr>\n",
              "    <tr>\n",
              "      <th id=\"T_4a1f4_level0_row17\" class=\"row_heading level0 row17\" >17</th>\n",
              "      <td id=\"T_4a1f4_row17_col0\" class=\"data row17 col0\" >C</td>\n",
              "      <td id=\"T_4a1f4_row17_col1\" class=\"data row17 col1\" >8</td>\n",
              "    </tr>\n",
              "    <tr>\n",
              "      <th id=\"T_4a1f4_level0_row18\" class=\"row_heading level0 row18\" >18</th>\n",
              "      <td id=\"T_4a1f4_row18_col0\" class=\"data row18 col0\" >Y</td>\n",
              "      <td id=\"T_4a1f4_row18_col1\" class=\"data row18 col1\" >8</td>\n",
              "    </tr>\n",
              "    <tr>\n",
              "      <th id=\"T_4a1f4_level0_row19\" class=\"row_heading level0 row19\" >19</th>\n",
              "      <td id=\"T_4a1f4_row19_col0\" class=\"data row19 col0\" >M</td>\n",
              "      <td id=\"T_4a1f4_row19_col1\" class=\"data row19 col1\" >4</td>\n",
              "    </tr>\n",
              "  </tbody>\n",
              "</table>\n"
            ]
          },
          "metadata": {},
          "execution_count": 13
        }
      ]
    },
    {
      "cell_type": "markdown",
      "source": [
        "## 🧬 Global Alignment of Target vs Template\n",
        "Using pairwise2 for a quick similarity check.\n"
      ],
      "metadata": {
        "id": "G0T4VFo6OhUf"
      }
    },
    {
      "cell_type": "code",
      "source": [
        "alignments = pairwise2.align.globalxx(target_seq, template_seq)\n",
        "top_alignment = alignments[0]\n",
        "\n",
        "print(f\"✅ Alignment score: {top_alignment.score}\")\n",
        "print(pairwise2.format_alignment(*top_alignment))"
      ],
      "metadata": {
        "colab": {
          "base_uri": "https://localhost:8080/"
        },
        "id": "iqZjL-smOk-K",
        "outputId": "e6e93316-b1fd-4ce4-85cb-0a4d32989e6f"
      },
      "execution_count": 14,
      "outputs": [
        {
          "output_type": "stream",
          "name": "stdout",
          "text": [
            "✅ Alignment score: 33.0\n",
            "------------M--K---------T----------------------F-----------------------F------------------L-------V------L--------L---L------------------------------------S----A------------------------L-------V--AVA--S------S----------S---V------------------------R----G---------------------A----------GA-------A--------G-----------G------------------V-L---------------------------------------------T--------------------------P----------------------------------------------------------------------------------\n",
            "            |  |         |                      |                       |                  |       |      |        |   |                                    |    |                        |       |  |||  |      |          |   |                        |    |                     |          ||       |        |           |                  | |                                             |                          |                                                                                  \n",
            "APRKFFVGGNWKMNGKRKSLGELIHTLDGAKLSADTEVVCGAPSIYLDFARQKLDAKIGVAAQNCYKVPKGAFTGEISPAMIKDIGAAWVILGHSERRHVFGESDELIGQKVAHALAEGLGVIACIGEKLDEREAGITEKVVFQETKAIADNVKDWSKVVLAYEPVWAIGTGKTATPQQAQEVHEKLRGWLKTHVSDAVAVQSRIIYGGSVTGGNCKELASQHDVDGFLVGGASLKPEFVDIINAKHAPRKFFVGGNWKMNGKRKSLGELIHTLDGAKLSADTEVVCGAPSIYLDFARQKLDAKIGVAAQNCYKVPKGAFTGEISPAMIKDIGAAWVILGHSERRHVFGESDELIGQKVAHALAEGLGVIACIGEKLDEREAGITEKVVFQETKAIADNVKDWSKVVLAYEPVWAIGTGKTATPQQAQEVHEKLRGWLKTHVSDAVAVQSRIIYGGSVTGGNCKELASQHDVDGFLVGGASLKPEFVDIINAKH\n",
            "  Score=33\n",
            "\n"
          ]
        }
      ]
    },
    {
      "cell_type": "markdown",
      "source": [
        "## ✅ Conclusion\n",
        "This notebook:\n",
        "- Downloaded a known **template protein PDB file**\n",
        "- Extracted its amino acid sequence\n",
        "- Uploaded your **target sequence**\n",
        "- Compared them with a global alignment\n",
        "- Provided amino acid composition visuals\n",
        "\n",
        "---\n",
        "\n",
        "\n"
      ],
      "metadata": {
        "id": "Vh8LPPrX-m1Z"
      }
    }
  ]
}